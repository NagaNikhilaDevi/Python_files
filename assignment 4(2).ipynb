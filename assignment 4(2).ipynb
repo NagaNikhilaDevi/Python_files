{
 "cells": [
  {
   "cell_type": "code",
   "execution_count": 9,
   "id": "ed38878f",
   "metadata": {},
   "outputs": [
    {
     "name": "stdout",
     "output_type": "stream",
     "text": [
      "Enter any number: 5\n",
      "Enter any symbol *  /: /\n",
      "Enter any number: 6\n",
      "5 * 6 = 30\n",
      "5 / 6 = 0.8333333333333334\n"
     ]
    }
   ],
   "source": [
    "# Write a program to accept two numbers from the user and calculate multiplication, division\n",
    "num1=int(input(\"Enter any number: \"))\n",
    "symbol=input(\"Enter any symbol *  /: \")\n",
    "num2=int(input(\"Enter any number: \"))\n",
    "    \n",
    "if symbol==\"*\" or \"/\":\n",
    "    print(\"{} * {} = {}\".format(num1,num2,num1*num2))\n",
    "    print(\"{} / {} = {}\".format(num1,num2,num1/num2))"
   ]
  },
  {
   "cell_type": "code",
   "execution_count": 20,
   "id": "2113eb3c",
   "metadata": {},
   "outputs": [
    {
     "name": "stdout",
     "output_type": "stream",
     "text": [
      "Enter a string: welcome\n",
      "Alphabets at an even index:   wloe\n"
     ]
    }
   ],
   "source": [
    "# Write a python program to print the characters from a string that are present at an even index\n",
    "alpha=input(\"Enter a string: \")\n",
    "even_char=\" \"\n",
    "\n",
    "for i in range(0,len(alpha),2):\n",
    "    even_char += alpha[i]\n",
    "\n",
    "print(\"Alphabets at an even index: \",even_char)"
   ]
  },
  {
   "cell_type": "code",
   "execution_count": 22,
   "id": "12d9f391",
   "metadata": {},
   "outputs": [
    {
     "name": "stdout",
     "output_type": "stream",
     "text": [
      "Enter a string: welcome\n",
      "Alphabets at an odd index:   ecm\n"
     ]
    }
   ],
   "source": [
    "#Write a python program to print the characters from a string that are present at an odd index\n",
    "alpha=input(\"Enter a string: \")\n",
    "odd_char=\" \"\n",
    "\n",
    "for i in range(1,len(alpha),2):\n",
    "    odd_char += alpha[i]\n",
    "\n",
    "print(\"Alphabets at an odd index: \",odd_char)"
   ]
  },
  {
   "cell_type": "code",
   "execution_count": 3,
   "id": "a2310323",
   "metadata": {},
   "outputs": [
    {
     "name": "stdout",
     "output_type": "stream",
     "text": [
      "Enter any number: 6\n",
      "Enter any number: 4\n",
      "6 + 4 = 10\n"
     ]
    }
   ],
   "source": [
    "#Write a python program which will print the sum of the two numbers if the two numbers are even or it will print the difference of two numbers\n",
    "num1=int(input(\"Enter any number: \"))\n",
    "num2=int(input(\"Enter any number: \"))\n",
    "\n",
    "if (num1 and num2)%2==0:\n",
    "    print(\"{} + {} = {}\".format(num1,num2,num1+num2))\n",
    "else:\n",
    "    print(\"{} - {} = {}\".format(num1,num2,num1-num2))"
   ]
  },
  {
   "cell_type": "code",
   "execution_count": 41,
   "id": "b5ab369d",
   "metadata": {},
   "outputs": [
    {
     "name": "stdout",
     "output_type": "stream",
     "text": [
      "Enter the string: welcome\n",
      "W\n",
      "e\n",
      "L\n",
      "c\n",
      "O\n",
      "m\n",
      "E\n"
     ]
    }
   ],
   "source": [
    "#Write a python program to convert all even indexed alphabets to upper and odd indexed char\n",
    "alpha=input(\"Enter the string: \")\n",
    "even=\"\"\n",
    "odd=\"\"\n",
    "\n",
    "for y in range(len(alpha)):\n",
    "    if y%2==0:\n",
    "        print(alpha[y].upper())\n",
    "    else:\n",
    "        print(alpha[y].lower())       "
   ]
  },
  {
   "cell_type": "code",
   "execution_count": 43,
   "id": "c6f46cf2",
   "metadata": {},
   "outputs": [
    {
     "name": "stdout",
     "output_type": "stream",
     "text": [
      "Enter any number: 1234\n",
      "False\n"
     ]
    }
   ],
   "source": [
    "# Write a python program which will print True if the input number is divisible by 5 or else False\n",
    "num=int(input(\"Enter any number: \"))\n",
    "\n",
    "if num%5==0:\n",
    "    print(\"True\")\n",
    "else:\n",
    "    print(\"False\")"
   ]
  },
  {
   "cell_type": "code",
   "execution_count": 54,
   "id": "02d69add",
   "metadata": {},
   "outputs": [
    {
     "name": "stdout",
     "output_type": "stream",
     "text": [
      "Enter any number: 50\n",
      "Enter any number: 30\n",
      "50 * 30 = 1500\n"
     ]
    }
   ],
   "source": [
    "#Given two integer numbers return their product only if the product is greater than 1000, else return their sum\n",
    "num1=int(input(\"Enter any number: \"))\n",
    "num2=int(input(\"Enter any number: \"))\n",
    "\n",
    "if (num1*num2)>1000:\n",
    "    print(\"{} * {} = {}\".format(num1,num2,num1*num2))\n",
    "else:\n",
    "    print(\"{} + {} = {}\".format(num1,num2,num1+num2))"
   ]
  },
  {
   "cell_type": "code",
   "execution_count": 60,
   "id": "e84de00c",
   "metadata": {},
   "outputs": [
    {
     "name": "stdout",
     "output_type": "stream",
     "text": [
      "Enter any string: Hello\n",
      "Enter any string: Super\n",
      "New string is  HSlpor\n"
     ]
    }
   ],
   "source": [
    "#Given two strings x, y writes a program to return a new string made of x and y’s first, middle, and last characters\n",
    "str1=input(\"Enter any string: \")\n",
    "str2=input(\"Enter any string: \")\n",
    "\n",
    "first_char=str1[0]+str2[0]\n",
    "\n",
    "middle_char=str1[int(len(str1) / 2):int(len(str1) / 2) + 1] + str2[int(len(str2) / 2):int(len(str2) / 2) + 1]\n",
    "    \n",
    "last_char=str1[len(str1) - 1] + str2[len(str2) - 1]\n",
    "\n",
    "total = first_char + middle_char + last_char\n",
    "print(\"New string is \", total)"
   ]
  },
  {
   "cell_type": "code",
   "execution_count": 80,
   "id": "f9a784db",
   "metadata": {},
   "outputs": [
    {
     "name": "stdout",
     "output_type": "stream",
     "text": [
      "Enter three strings: Hello Good Morning\n",
      "name1:  Hello\n",
      "name2:  Good\n",
      "name3:  Morning\n"
     ]
    }
   ],
   "source": [
    "#Write a python program to take three names as input from a user in the single input () function call\n",
    "str1, str2, str3 = input(\"Enter three strings: \").split()\n",
    "\n",
    "print(\"name1: \" , str1)\n",
    "print(\"name2: \" , str2)\n",
    "print(\"name3: \" , str3)"
   ]
  },
  {
   "cell_type": "code",
   "execution_count": 94,
   "id": "750edb29",
   "metadata": {},
   "outputs": [
    {
     "name": "stdout",
     "output_type": "stream",
     "text": [
      "Enter any string: madam\n",
      "[0, 'a', 'd', 'a', '@']\n"
     ]
    }
   ],
   "source": [
    "#Write a Python program to get a string from a given string where all occurrences of its first char have been changed to '@', except the first char itself.\n",
    "str1=input(\"Enter any string: \")\n",
    "x=[0]\n",
    "for char in str1[1:]:\n",
    "    if char==str1[0]:\n",
    "        x+=\"@\"\n",
    "    else:\n",
    "        x+=char\n",
    "print(x)"
   ]
  },
  {
   "cell_type": "code",
   "execution_count": 96,
   "id": "da28177c",
   "metadata": {},
   "outputs": [
    {
     "name": "stdout",
     "output_type": "stream",
     "text": [
      "Enter any string: abc\n",
      "abcing\n"
     ]
    }
   ],
   "source": [
    "#) Write a Python program to add 'ing' at the end of a given string (string length should be equal to or more than 3). If the given string already ends with 'ing' then add 'ly' instead. If the string length of the given string is less than 3, leave it unchanged\n",
    "str1=input(\"Enter any string: \")\n",
    "length=len(str1)\n",
    "\n",
    "if length > 2:\n",
    "    if str1[-3]==\"ing\":\n",
    "        str1 += \"ly\"\n",
    "    else:\n",
    "        str1 += \"ing\"\n",
    "print(str1)\n"
   ]
  },
  {
   "cell_type": "code",
   "execution_count": 5,
   "id": "dbc2fe1f",
   "metadata": {},
   "outputs": [
    {
     "name": "stdout",
     "output_type": "stream",
     "text": [
      "Enter any number: 4\n",
      "Enter any number: 6\n",
      "True\n"
     ]
    }
   ],
   "source": [
    "#Write a python program that accepts two inputs num1 and num2 print True if one of them is 10 or if their sum is 10 otherwise print False\n",
    "num1=int(input(\"Enter any number: \"))\n",
    "num2=int(input(\"Enter any number: \"))\n",
    "\n",
    "if (num1 or num2)==10 or (num1+num2)==10:\n",
    "    print(\"True\")\n",
    "else:\n",
    "    print(\"False\")"
   ]
  },
  {
   "cell_type": "code",
   "execution_count": 7,
   "id": "4857f4b7",
   "metadata": {},
   "outputs": [
    {
     "name": "stdout",
     "output_type": "stream",
     "text": [
      "Enter any number: 3\n",
      "Enter any number: 4\n",
      "Enter any number: 20\n",
      "False\n"
     ]
    }
   ],
   "source": [
    "#Write a python program that accepts three inputs x, y and z print True if x*y>z otherwise False\n",
    "num1=int(input(\"Enter any number: \"))\n",
    "num2=int(input(\"Enter any number: \"))\n",
    "num3=int(input(\"Enter any number: \"))\n",
    "\n",
    "if (num1*num2)>num3:\n",
    "    print(\"True\")\n",
    "else:\n",
    "    print(\"False\")"
   ]
  },
  {
   "cell_type": "code",
   "execution_count": 9,
   "id": "3b648e2e",
   "metadata": {},
   "outputs": [
    {
     "name": "stdout",
     "output_type": "stream",
     "text": [
      "Enter any string: Hello\n",
      "Enter any string: Bye\n",
      "False\n"
     ]
    }
   ],
   "source": [
    "#Write a python program that accepts two strings inputs return True depending on whether the total number of characters in the first string is equal to the total number of characters in the second string\n",
    "str1=input(\"Enter any string: \")\n",
    "str2=input(\"Enter any string: \")\n",
    "\n",
    "if len(str1)==len(str2):\n",
    "    print(\"True\")\n",
    "else:\n",
    "    print(\"False\")"
   ]
  },
  {
   "cell_type": "code",
   "execution_count": 10,
   "id": "bdd89ea8",
   "metadata": {},
   "outputs": [
    {
     "name": "stdout",
     "output_type": "stream",
     "text": [
      "Enter any number: 5\n",
      "Enter any symbol + - * % +\n",
      "Enter any number: 6\n",
      "5 + 6 = 11\n"
     ]
    }
   ],
   "source": [
    "#Create a dynamic calculator which asks for numbers and operator and return the answers\n",
    "num1=int(input(\"Enter any number: \"))\n",
    "symbol=input(\"Enter any symbol + - * % \")\n",
    "num2=int(input(\"Enter any number: \"))\n",
    "\n",
    "if  symbol==\"+\":\n",
    "    print(\"{} + {} = {}\".format(num1,num2,num1+num2))\n",
    "elif symbol==\"-\":\n",
    "    print(\"{} - {} = {}\".format(num1,num2,num1-num2))\n",
    "elif symbol==\"*\":\n",
    "    print(\"{} * {} = {}\".format(num1,num2,num1*num2))\n",
    "elif symbol==\"%\":\n",
    "    print(\"{} % {} = {}\".format(num1,num2,num1%num2))\n",
    "else:\n",
    "    print(\"not mentioned above\")"
   ]
  },
  {
   "cell_type": "code",
   "execution_count": null,
   "id": "93bf34d7",
   "metadata": {},
   "outputs": [],
   "source": []
  }
 ],
 "metadata": {
  "kernelspec": {
   "display_name": "Python 3 (ipykernel)",
   "language": "python",
   "name": "python3"
  },
  "language_info": {
   "codemirror_mode": {
    "name": "ipython",
    "version": 3
   },
   "file_extension": ".py",
   "mimetype": "text/x-python",
   "name": "python",
   "nbconvert_exporter": "python",
   "pygments_lexer": "ipython3",
   "version": "3.11.3"
  }
 },
 "nbformat": 4,
 "nbformat_minor": 5
}

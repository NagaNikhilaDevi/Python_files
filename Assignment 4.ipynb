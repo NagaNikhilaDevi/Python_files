{
 "cells": [
  {
   "cell_type": "code",
   "execution_count": 2,
   "id": "7193fe85",
   "metadata": {},
   "outputs": [
    {
     "name": "stdout",
     "output_type": "stream",
     "text": [
      "Enter number of rows: 5\n",
      "1 \n",
      "2 2 \n",
      "3 3 3 \n",
      "4 4 4 4 \n",
      "5 5 5 5 5 \n"
     ]
    }
   ],
   "source": [
    "rows=int(input(\"Enter number of rows: \"))\n",
    "for i in range(rows):\n",
    "    for j in range(i+1):\n",
    "        print(i+1, end=\" \")\n",
    "    print()"
   ]
  },
  {
   "cell_type": "code",
   "execution_count": 12,
   "id": "f3790e5b",
   "metadata": {},
   "outputs": [
    {
     "name": "stdout",
     "output_type": "stream",
     "text": [
      "Enter number of rows: 5\n",
      "1 \n",
      "1 2 \n",
      "1 2 3 \n",
      "1 2 3 4 \n",
      "1 2 3 4 5 \n"
     ]
    }
   ],
   "source": [
    "rows=int(input(\"Enter number of rows: \"))\n",
    "for i in range(rows):\n",
    "    for j in range(i+1):\n",
    "        print(j+1 , end=\" \")\n",
    "    print()"
   ]
  },
  {
   "cell_type": "code",
   "execution_count": 11,
   "id": "b290c67f",
   "metadata": {},
   "outputs": [
    {
     "name": "stdout",
     "output_type": "stream",
     "text": [
      "Enter number of rows: 5\n",
      "1 1 1 1 1 \n",
      "2 2 2 2 \n",
      "3 3 3 \n",
      "4 4 \n",
      "5 \n"
     ]
    }
   ],
   "source": [
    "rows = int(input(\"Enter number of rows: \"))\n",
    "\n",
    "for i in range(rows):\n",
    "    for j in range(rows-i):\n",
    "        print(i+1, end=\" \")\n",
    "    print()"
   ]
  },
  {
   "cell_type": "code",
   "execution_count": 10,
   "id": "d831133a",
   "metadata": {},
   "outputs": [
    {
     "name": "stdout",
     "output_type": "stream",
     "text": [
      "55555\n",
      "5555\n",
      "555\n",
      "55\n",
      "5\n"
     ]
    }
   ],
   "source": [
    "rows=6    #\n",
    "for i in range(rows,1,-1):\n",
    "    print(5*(10**(i-1))//9)"
   ]
  },
  {
   "cell_type": "code",
   "execution_count": 23,
   "id": "53a057c4",
   "metadata": {},
   "outputs": [
    {
     "name": "stdout",
     "output_type": "stream",
     "text": [
      "Enter number of rows: 6\n",
      "0 1 2 3 4 5 \n",
      "0 1 2 3 4 \n",
      "0 1 2 3 \n",
      "0 1 2 \n",
      "0 1 \n",
      "0 \n"
     ]
    }
   ],
   "source": [
    "rows = int(input(\"Enter number of rows: \"))\n",
    "\n",
    "for i in range(rows):\n",
    "    for j in range(rows-i):\n",
    "        print(j, end=\" \")\n",
    "    print()"
   ]
  },
  {
   "cell_type": "code",
   "execution_count": 16,
   "id": "a649b5d6",
   "metadata": {},
   "outputs": [
    {
     "name": "stdout",
     "output_type": "stream",
     "text": [
      "Enter number of rows: 5\n",
      "1 \n",
      "3 3 \n",
      "5 5 5 \n",
      "7 7 7 7 \n",
      "9 9 9 9 9 \n"
     ]
    }
   ],
   "source": [
    "rows = int(input(\"Enter number of rows: \"))\n",
    "n=1\n",
    "for i in range(rows):\n",
    "    for j in range(i+1):\n",
    "        print(n , end=\" \")\n",
    "    n = n+2;\n",
    "    print()"
   ]
  },
  {
   "cell_type": "code",
   "execution_count": 18,
   "id": "5fc0e14c",
   "metadata": {},
   "outputs": [
    {
     "name": "stdout",
     "output_type": "stream",
     "text": [
      "Enter number of rows: 5\n",
      "5 5 5 5 5 \n",
      "4 4 4 4 \n",
      "3 3 3 \n",
      "2 2 \n",
      "1 \n"
     ]
    }
   ],
   "source": [
    "rows=int(input(\"Enter number of rows: \"))\n",
    "for i in range(rows,0,-1):\n",
    "    for j in range(i):\n",
    "        print(i , end=\" \")\n",
    "    print()"
   ]
  },
  {
   "cell_type": "code",
   "execution_count": 60,
   "id": "da152438",
   "metadata": {},
   "outputs": [
    {
     "name": "stdout",
     "output_type": "stream",
     "text": [
      "Enter number of rows: 6\n",
      "1 \n",
      "2 1 \n",
      "3 2 1 \n",
      "4 3 2 1 \n",
      "5 4 3 2 1 \n"
     ]
    }
   ],
   "source": [
    "rows=int(input(\"Enter number of rows: \"))\n",
    "for i in range(1,rows):\n",
    "    for j in range(i,0,-1):\n",
    "        print(j , end=\" \")\n",
    "    print()"
   ]
  },
  {
   "cell_type": "code",
   "execution_count": 72,
   "id": "46820533",
   "metadata": {},
   "outputs": [
    {
     "name": "stdout",
     "output_type": "stream",
     "text": [
      "Enter number of rows: 5\n",
      "5 4 3 2 1 \n",
      "4 3 2 1 \n",
      "3 2 1 \n",
      "2 1 \n",
      "1 \n"
     ]
    }
   ],
   "source": [
    "rows=int(input(\"Enter number of rows: \"))\n",
    "for i in range(rows,0,-1):\n",
    "    for j in range(i,0,-1):\n",
    "        print(j, end=\" \")\n",
    "    print()"
   ]
  },
  {
   "cell_type": "markdown",
   "id": "f7b4c31d",
   "metadata": {},
   "source": []
  },
  {
   "cell_type": "code",
   "execution_count": 11,
   "id": "2999e60e",
   "metadata": {},
   "outputs": [
    {
     "name": "stdout",
     "output_type": "stream",
     "text": [
      "Enter number of rows: 5\n",
      "     1\n",
      "    12\n",
      "   123\n",
      "  1234\n",
      " 12345\n"
     ]
    }
   ],
   "source": [
    "rows=int(input(\"Enter number of rows: \"))\n",
    "for i in range(1,rows+1):\n",
    "    print(\" \" * (rows-i), end=\" \")\n",
    "    for j in range(1,i+1):\n",
    "        print(j , end=\"\")\n",
    "    print()"
   ]
  },
  {
   "cell_type": "markdown",
   "id": "fb748cf4",
   "metadata": {},
   "source": []
  },
  {
   "cell_type": "markdown",
   "id": "585242b8",
   "metadata": {},
   "source": []
  },
  {
   "cell_type": "code",
   "execution_count": 12,
   "id": "f2b3e8a0",
   "metadata": {},
   "outputs": [
    {
     "name": "stdout",
     "output_type": "stream",
     "text": [
      "Enter number of rows: 5\n",
      "     1 \n",
      "    1 2 \n",
      "   1 2 3 \n",
      "  1 2 3 4 \n",
      " 1 2 3 4 5 \n"
     ]
    }
   ],
   "source": [
    "rows=int(input(\"Enter number of rows: \"))\n",
    "for i in range(1,rows+1):\n",
    "    print(\" \" * (rows-i), end=\" \")\n",
    "    for j in range(1,i+1):\n",
    "        print(j , end=\" \")\n",
    "    print()"
   ]
  },
  {
   "cell_type": "code",
   "execution_count": 13,
   "id": "9b440d0a",
   "metadata": {},
   "outputs": [
    {
     "name": "stdout",
     "output_type": "stream",
     "text": [
      "Enter number of rows: 5\n",
      "1 2 3 4 5 \n",
      "2 2 3 4 5 \n",
      "3 3 3 4 5 \n",
      "4 4 4 4 5 \n",
      "5 5 5 5 5 \n"
     ]
    }
   ],
   "source": [
    "rows=int(input(\"Enter number of rows: \"))\n",
    "for i in range(1, rows+1):\n",
    "    for j in range(1, rows+1):\n",
    "        if i<=j:\n",
    "            print(j,end=\" \")\n",
    "        else: \n",
    "            print(i,end=\" \")\n",
    "    print()\n",
    "            "
   ]
  },
  {
   "cell_type": "code",
   "execution_count": 15,
   "id": "6e879cb2",
   "metadata": {},
   "outputs": [
    {
     "name": "stdout",
     "output_type": "stream",
     "text": [
      "Enter number of rows: 8\n",
      "1 \n",
      "2 4 \n",
      "3 6 9 \n",
      "4 8 12 16 \n",
      "5 10 15 20 25 \n",
      "6 12 18 24 30 36 \n",
      "7 14 21 28 35 42 49 \n",
      "8 16 24 32 40 48 56 64 \n"
     ]
    }
   ],
   "source": [
    "rows=int(input(\"Enter number of rows: \"))\n",
    "for i in range(1, rows+1):\n",
    "    num=i\n",
    "    for j in range(i):\n",
    "        print(num, end=\" \")\n",
    "        num += i\n",
    "    print()\n",
    "        "
   ]
  },
  {
   "cell_type": "code",
   "execution_count": 4,
   "id": "826f9429",
   "metadata": {},
   "outputs": [
    {
     "name": "stdout",
     "output_type": "stream",
     "text": [
      "Enter number of rows: 5\n",
      "*\n",
      "**\n",
      "***\n",
      "****\n",
      "*****\n"
     ]
    }
   ],
   "source": [
    "rows=int(input(\"Enter number of rows: \"))\n",
    "for i in range(rows):\n",
    "    for j in range(i+1):\n",
    "        print(\"*\" , end=\"\")\n",
    "    print()"
   ]
  },
  {
   "cell_type": "code",
   "execution_count": 19,
   "id": "9f893d25",
   "metadata": {
    "scrolled": true
   },
   "outputs": [
    {
     "name": "stdout",
     "output_type": "stream",
     "text": [
      "Enter number of rows: 5\n",
      "     *\n",
      "    **\n",
      "   ***\n",
      "  ****\n",
      " *****\n"
     ]
    }
   ],
   "source": [
    "rows=int(input(\"Enter number of rows: \"))\n",
    "for i in range(1,rows+1):\n",
    "    print(\" \"*(rows-i),end=\" \")\n",
    "    for j in range(1,i+1):\n",
    "        print(\"*\" , end=\"\")\n",
    "    print()"
   ]
  },
  {
   "cell_type": "code",
   "execution_count": 28,
   "id": "dfa8b707",
   "metadata": {},
   "outputs": [
    {
     "name": "stdout",
     "output_type": "stream",
     "text": [
      "Enter number of rows: 5\n",
      "*****\n",
      "****\n",
      "***\n",
      "**\n",
      "*\n"
     ]
    }
   ],
   "source": [
    "rows=int(input(\"Enter number of rows: \"))\n",
    "for i in range(rows,0,-1):\n",
    "    for j in range(i,0,-1):\n",
    "        print(\"*\" , end=\"\")\n",
    "    print()"
   ]
  },
  {
   "cell_type": "code",
   "execution_count": 38,
   "id": "9b739e03",
   "metadata": {},
   "outputs": [
    {
     "name": "stdout",
     "output_type": "stream",
     "text": [
      "Enter number of rows: 7\n",
      "       * \n",
      "      * * \n",
      "     * * * \n",
      "    * * * * \n",
      "   * * * * * \n",
      "  * * * * * * \n",
      " * * * * * * * \n"
     ]
    }
   ],
   "source": [
    "rows=int(input(\"Enter number of rows: \"))\n",
    "for i in range(1,rows+1):\n",
    "    print(\" \"*(rows-i),end=\" \")\n",
    "    for j in range(1,i+1):\n",
    "        print(\"*\",end=\" \")\n",
    "    print()"
   ]
  },
  {
   "cell_type": "code",
   "execution_count": 67,
   "id": "091dac60",
   "metadata": {},
   "outputs": [
    {
     "name": "stdout",
     "output_type": "stream",
     "text": [
      "Enter number of rows: 5\n",
      " *****\n",
      "  ****\n",
      "   ***\n",
      "    **\n",
      "     *\n"
     ]
    }
   ],
   "source": [
    "rows=int(input(\"Enter number of rows: \"))\n",
    "for i in range(rows,0,-1):\n",
    "    print(\" \"*(rows-i),end=\" \")\n",
    "    for j in range(i,0,-1):\n",
    "        print(\"*\" , end=\"\")\n",
    "    print()"
   ]
  },
  {
   "cell_type": "markdown",
   "id": "d51aff79",
   "metadata": {},
   "source": []
  },
  {
   "cell_type": "code",
   "execution_count": 72,
   "id": "df6e542e",
   "metadata": {},
   "outputs": [
    {
     "name": "stdout",
     "output_type": "stream",
     "text": [
      "Enter number of rows: 6\n",
      " * * * * * * \n",
      "  * * * * * \n",
      "   * * * * \n",
      "    * * * \n",
      "     * * \n",
      "      * \n"
     ]
    }
   ],
   "source": [
    "rows=int(input(\"Enter number of rows: \"))\n",
    "for i in range(rows,0,-1):\n",
    "    print(\" \"*(rows-i),end=\" \")\n",
    "    for j in range(i,0,-1):\n",
    "        print(\"*\" , end=\" \")\n",
    "    print()"
   ]
  },
  {
   "cell_type": "code",
   "execution_count": 84,
   "id": "1cd35785",
   "metadata": {},
   "outputs": [
    {
     "name": "stdout",
     "output_type": "stream",
     "text": [
      "Enter number of rows: 5\n",
      "Enter number of rows: 4\n",
      "*\n",
      "**\n",
      "***\n",
      "****\n",
      "*****\n",
      "****\n",
      "***\n",
      "**\n",
      "*\n"
     ]
    }
   ],
   "source": [
    "rows=int(input(\"Enter number of rows: \"))\n",
    "rows1=int(input(\"Enter number of rows: \"))\n",
    "for i in range(rows):\n",
    "    for j in range(i+1):\n",
    "        print(\"*\" , end=\"\")\n",
    "    print()\n",
    "for i in range(rows1,0,-1):\n",
    "    for j in range(i,0,-1):\n",
    "        print(\"*\" , end=\"\")\n",
    "    print()"
   ]
  },
  {
   "cell_type": "code",
   "execution_count": null,
   "id": "664bfcb9",
   "metadata": {},
   "outputs": [],
   "source": []
  },
  {
   "cell_type": "code",
   "execution_count": null,
   "id": "37cdd1db",
   "metadata": {},
   "outputs": [],
   "source": []
  }
 ],
 "metadata": {
  "kernelspec": {
   "display_name": "Python 3 (ipykernel)",
   "language": "python",
   "name": "python3"
  },
  "language_info": {
   "codemirror_mode": {
    "name": "ipython",
    "version": 3
   },
   "file_extension": ".py",
   "mimetype": "text/x-python",
   "name": "python",
   "nbconvert_exporter": "python",
   "pygments_lexer": "ipython3",
   "version": "3.11.3"
  }
 },
 "nbformat": 4,
 "nbformat_minor": 5
}

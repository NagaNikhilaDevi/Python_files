{
 "cells": [
  {
   "cell_type": "code",
   "execution_count": 1,
   "id": "412fc394",
   "metadata": {},
   "outputs": [],
   "source": [
    "# Q1 Write a python program to convert a string to lower case\n"
   ]
  },
  {
   "cell_type": "code",
   "execution_count": 12,
   "id": "ccc66db4",
   "metadata": {},
   "outputs": [
    {
     "data": {
      "text/plain": [
       "'hello'"
      ]
     },
     "execution_count": 12,
     "metadata": {},
     "output_type": "execute_result"
    }
   ],
   "source": [
    "x=\"Hello\"\n",
    "x.lower()\n"
   ]
  },
  {
   "cell_type": "code",
   "execution_count": 2,
   "id": "74ccd407",
   "metadata": {},
   "outputs": [],
   "source": [
    "# Q2 Write a python program to convert only odd indexed characters to lower case"
   ]
  },
  {
   "cell_type": "code",
   "execution_count": 16,
   "id": "9ac5d668",
   "metadata": {},
   "outputs": [
    {
     "data": {
      "text/plain": [
       "'HeLlO'"
      ]
     },
     "execution_count": 16,
     "metadata": {},
     "output_type": "execute_result"
    }
   ],
   "source": [
    "x=\"HELLO\"\n",
    "x[0].upper()+x[1].lower()+x[2].upper()+x[3].lower()+x[4].upper()"
   ]
  },
  {
   "cell_type": "code",
   "execution_count": 3,
   "id": "c4829de2",
   "metadata": {},
   "outputs": [],
   "source": [
    "# Q3 Write a python program to convert only even indexed characters to lower case"
   ]
  },
  {
   "cell_type": "code",
   "execution_count": 17,
   "id": "acb19f0a",
   "metadata": {},
   "outputs": [
    {
     "data": {
      "text/plain": [
       "'hElLo'"
      ]
     },
     "execution_count": 17,
     "metadata": {},
     "output_type": "execute_result"
    }
   ],
   "source": [
    "x=\"HELLO\"\n",
    "x[0].lower()+x[1].upper()+x[2].lower()+x[3].upper()+x[4].lower()"
   ]
  },
  {
   "cell_type": "code",
   "execution_count": 4,
   "id": "e0253b86",
   "metadata": {},
   "outputs": [],
   "source": [
    "# Q4 Write a python program to convert only odd indexed characters to upper case\n"
   ]
  },
  {
   "cell_type": "code",
   "execution_count": 19,
   "id": "0a16f769",
   "metadata": {},
   "outputs": [
    {
     "data": {
      "text/plain": [
       "'hElLo'"
      ]
     },
     "execution_count": 19,
     "metadata": {},
     "output_type": "execute_result"
    }
   ],
   "source": [
    "x=\"hello\"\n",
    "x[0].lower()+x[1].upper()+x[2].lower()+x[3].upper()+x[4].lower()"
   ]
  },
  {
   "cell_type": "code",
   "execution_count": 5,
   "id": "9ae68397",
   "metadata": {},
   "outputs": [],
   "source": [
    "# Q5 Write a python program to convert only even indexed characters to upper case\n"
   ]
  },
  {
   "cell_type": "code",
   "execution_count": 20,
   "id": "5a093eae",
   "metadata": {},
   "outputs": [
    {
     "data": {
      "text/plain": [
       "'HeLlO'"
      ]
     },
     "execution_count": 20,
     "metadata": {},
     "output_type": "execute_result"
    }
   ],
   "source": [
    "x=\"hello\"\n",
    "x[0].upper()+x[1].lower()+x[2].upper()+x[3].lower()+x[4].upper()"
   ]
  },
  {
   "cell_type": "code",
   "execution_count": 6,
   "id": "1808ba54",
   "metadata": {},
   "outputs": [],
   "source": [
    "# Q6 Write a python program where you have different variable which contains your name ,sex,age, phone no ,fathers name and mothers name.And by using this variable create avariable named bio-data where you will use allthis variable\n"
   ]
  },
  {
   "cell_type": "code",
   "execution_count": 2,
   "id": "e1fdf0fe",
   "metadata": {},
   "outputs": [
    {
     "name": "stdout",
     "output_type": "stream",
     "text": [
      "Enter your name: Person 4\n",
      "Enter your Gender: male\n",
      "Enter your age: 30\n",
      "Enter your phone_no: 9876543210\n",
      "Enter your father name: person 2\n",
      "Enter your mother name: person 3\n",
      "my name is Person 4\n",
      "my Gender is male\n",
      "my age is 30\n",
      "my phone_no is 9876543210\n",
      "my father name is person 2\n",
      "my mother name is person 3\n"
     ]
    }
   ],
   "source": [
    "name=input(\"Enter your name: \")\n",
    "sex=input(\"Enter your Gender: \")\n",
    "age=int(input(\"Enter your age: \"))\n",
    "phone_no=int(input(\"Enter your phone_no: \"))\n",
    "father_name=input(\"Enter your father name: \")\n",
    "mother_name=input(\"Enter your mother name: \")\n",
    "print(\"my name is {}\".format(name))\n",
    "print(\"my Gender is {}\".format(sex))\n",
    "print(\"my age is {}\".format(age))\n",
    "print(\"my phone_no is {}\".format(phone_no))\n",
    "print(\"my father name is {}\".format(father_name))\n",
    "print(\"my mother name is {}\".format(mother_name))"
   ]
  },
  {
   "cell_type": "code",
   "execution_count": 7,
   "id": "ab20fae2",
   "metadata": {},
   "outputs": [],
   "source": [
    "# Q7 Write a python program to count how many times “@” occurred"
   ]
  },
  {
   "cell_type": "code",
   "execution_count": 21,
   "id": "bc7c73bb",
   "metadata": {},
   "outputs": [
    {
     "data": {
      "text/plain": [
       "6"
      ]
     },
     "execution_count": 21,
     "metadata": {},
     "output_type": "execute_result"
    }
   ],
   "source": [
    "x=\"asdf@ghjj@34@45@@@\"\n",
    "x.count(\"@\")"
   ]
  },
  {
   "cell_type": "code",
   "execution_count": 8,
   "id": "e291fb10",
   "metadata": {},
   "outputs": [],
   "source": [
    "# Q8 Write a python program to get only names from the string “name1.@gmail.com,name2.@gmail.com,name 3.@gmail.com”"
   ]
  },
  {
   "cell_type": "code",
   "execution_count": 9,
   "id": "92238630",
   "metadata": {},
   "outputs": [
    {
     "data": {
      "text/plain": [
       "['name1', ',name2', ',name3', '']"
      ]
     },
     "execution_count": 9,
     "metadata": {},
     "output_type": "execute_result"
    }
   ],
   "source": [
    "r = \"name1.@gmail.com,name2.@gmail.com,name3.@gmail.com\"\n",
    "r.replace(\".@gmail.com\", \" \").split(\" \")"
   ]
  },
  {
   "cell_type": "code",
   "execution_count": 9,
   "id": "30b19a3e",
   "metadata": {},
   "outputs": [],
   "source": [
    "# Q9 Given a string of odd length greater that 9, return a new string made of the middle three characters of a given String\n"
   ]
  },
  {
   "cell_type": "code",
   "execution_count": 14,
   "id": "1382bd6c",
   "metadata": {},
   "outputs": [
    {
     "data": {
      "text/plain": [
       "'mei'"
      ]
     },
     "execution_count": 14,
     "metadata": {},
     "output_type": "execute_result"
    }
   ],
   "source": [
    "s = \"mynameissan\"\n",
    "s[4:-4]\n"
   ]
  },
  {
   "cell_type": "code",
   "execution_count": 10,
   "id": "dcfba4b5",
   "metadata": {},
   "outputs": [],
   "source": [
    "# Q10 Write a python program to insert a 2 string in the middle of 1 string"
   ]
  },
  {
   "cell_type": "code",
   "execution_count": 16,
   "id": "27ae48d9",
   "metadata": {},
   "outputs": [
    {
     "data": {
      "text/plain": [
       "'msayn'"
      ]
     },
     "execution_count": 16,
     "metadata": {},
     "output_type": "execute_result"
    }
   ],
   "source": [
    "Str1=\"myn\"\n",
    "Str2=\"sa\"\n",
    "Str1[0] + Str2 + Str1[1:3]\n"
   ]
  },
  {
   "cell_type": "code",
   "execution_count": 11,
   "id": "13c71939",
   "metadata": {},
   "outputs": [],
   "source": [
    "# Q11 Write a program to remove vowels from the entire alphabets \n"
   ]
  },
  {
   "cell_type": "code",
   "execution_count": 18,
   "id": "835c56ce",
   "metadata": {},
   "outputs": [
    {
     "data": {
      "text/plain": [
       "'bcdfghjklmnpqrstvwxyz'"
      ]
     },
     "execution_count": 18,
     "metadata": {},
     "output_type": "execute_result"
    }
   ],
   "source": [
    "w = \"abcdefghijklmnopqrstuvwxyz\"\n",
    "w.translate(w.maketrans(\"aeiou\", \".....\")).replace(\".\", \"\")"
   ]
  },
  {
   "cell_type": "code",
   "execution_count": null,
   "id": "9e53aebe",
   "metadata": {},
   "outputs": [],
   "source": []
  }
 ],
 "metadata": {
  "kernelspec": {
   "display_name": "Python 3 (ipykernel)",
   "language": "python",
   "name": "python3"
  },
  "language_info": {
   "codemirror_mode": {
    "name": "ipython",
    "version": 3
   },
   "file_extension": ".py",
   "mimetype": "text/x-python",
   "name": "python",
   "nbconvert_exporter": "python",
   "pygments_lexer": "ipython3",
   "version": "3.11.3"
  }
 },
 "nbformat": 4,
 "nbformat_minor": 5
}

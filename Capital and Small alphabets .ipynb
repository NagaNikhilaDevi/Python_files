{
 "cells": [
  {
   "cell_type": "code",
   "execution_count": 64,
   "id": "7329e853",
   "metadata": {},
   "outputs": [
    {
     "name": "stdout",
     "output_type": "stream",
     "text": [
      "******\n",
      "*    *\n",
      "* ** *\n",
      "*    *\n",
      "*    *\n"
     ]
    }
   ],
   "source": [
    "# Capital Alphabets : \n",
    "x=1\n",
    "while x<=5:\n",
    "    if x==1:\n",
    "        print(\"******\")\n",
    "    elif x==2 or x==4 or x==5:\n",
    "        print(\"*    *\")\n",
    "    else:\n",
    "        print(\"* ** *\")\n",
    "    x=x+1"
   ]
  },
  {
   "cell_type": "code",
   "execution_count": 2,
   "id": "e3371773",
   "metadata": {},
   "outputs": [
    {
     "name": "stdout",
     "output_type": "stream",
     "text": [
      "******\n",
      "*     *\n",
      "* * **\n",
      "*     *\n",
      "******\n"
     ]
    }
   ],
   "source": [
    "x=1\n",
    "while x<=5:\n",
    "    if x==1 or x==5:\n",
    "        print(\"******\")\n",
    "    elif x==2 or x==4:\n",
    "        print(\"*     *\")\n",
    "    else:\n",
    "        print(\"* * **\")\n",
    "    x=x+1"
   ]
  },
  {
   "cell_type": "code",
   "execution_count": 90,
   "id": "4c0a94a1",
   "metadata": {},
   "outputs": [
    {
     "name": "stdout",
     "output_type": "stream",
     "text": [
      "  ******\n",
      " *     \n",
      " *      \n",
      " *     \n",
      "  ******\n"
     ]
    }
   ],
   "source": [
    "x=1\n",
    "while x<=5:\n",
    "    if x==1 or x==5:\n",
    "        print(\"  ******\")\n",
    "    elif x==2 or x==4:\n",
    "        print(\" *     \")\n",
    "    else:\n",
    "        print(\" *      \")\n",
    "    x=x+1"
   ]
  },
  {
   "cell_type": "code",
   "execution_count": 4,
   "id": "0ccfbeca",
   "metadata": {},
   "outputs": [
    {
     "name": "stdout",
     "output_type": "stream",
     "text": [
      "******\n",
      "*      *\n",
      "*      *\n",
      "*      *\n",
      "******\n"
     ]
    }
   ],
   "source": [
    "x=1\n",
    "while x<=5:\n",
    "    if x==1 or x==5:\n",
    "        print(\"******\")\n",
    "    elif x==2 or x==4 or x==3:\n",
    "        print(\"*      *\")\n",
    "    else:\n",
    "        print(\"      \")\n",
    "    x=x+1"
   ]
  },
  {
   "cell_type": "code",
   "execution_count": 5,
   "id": "6260a191",
   "metadata": {},
   "outputs": [
    {
     "name": "stdout",
     "output_type": "stream",
     "text": [
      "******\n",
      "*     \n",
      "******\n",
      "*     \n",
      "******\n"
     ]
    }
   ],
   "source": [
    "x=1\n",
    "while x<=5:\n",
    "    if x==1 or x==5:\n",
    "        print(\"******\")\n",
    "    elif x==2 or x==4:\n",
    "        print(\"*     \")\n",
    "    else:\n",
    "        print(\"******\")\n",
    "    x=x+1"
   ]
  },
  {
   "cell_type": "code",
   "execution_count": 65,
   "id": "106bad93",
   "metadata": {},
   "outputs": [
    {
     "name": "stdout",
     "output_type": "stream",
     "text": [
      "******\n",
      "*     \n",
      "****\n",
      "*     \n",
      "*     \n"
     ]
    }
   ],
   "source": [
    "x=1\n",
    "while x<=5:\n",
    "    if x==1:\n",
    "        print(\"******\")\n",
    "    elif x==2 or x==4 or x==5:\n",
    "        print(\"*     \")\n",
    "    else:\n",
    "        print(\"****\")\n",
    "    x=x+1"
   ]
  },
  {
   "cell_type": "code",
   "execution_count": 21,
   "id": "163bfb64",
   "metadata": {},
   "outputs": [
    {
     "name": "stdout",
     "output_type": "stream",
     "text": [
      "******\n",
      "*     \n",
      "*  *****\n",
      "*    * *\n",
      "****** *\n"
     ]
    }
   ],
   "source": [
    "x=1\n",
    "while x<=5:\n",
    "    if x==1:\n",
    "        print(\"******\")\n",
    "    elif x==5:\n",
    "         print(\"****** *\")\n",
    "    elif x==2:\n",
    "        print(\"*     \")\n",
    "    elif x==4:  \n",
    "        print(\"*    * *\")\n",
    "    else:\n",
    "        print(\"*  *****\")\n",
    "    x=x+1"
   ]
  },
  {
   "cell_type": "code",
   "execution_count": 20,
   "id": "202afd0f",
   "metadata": {},
   "outputs": [
    {
     "name": "stdout",
     "output_type": "stream",
     "text": [
      "*    *\n",
      "*    *\n",
      "******\n",
      "*    *\n",
      "*    *\n"
     ]
    }
   ],
   "source": [
    "x=1\n",
    "while x<=5:\n",
    "    if x==1 or x==5:\n",
    "        print(\"*    *\")\n",
    "    elif x==2 or x==4:\n",
    "        print(\"*    *\")\n",
    "    else:\n",
    "        print(\"******\")\n",
    "    x=x+1"
   ]
  },
  {
   "cell_type": "code",
   "execution_count": 24,
   "id": "0bb710b4",
   "metadata": {},
   "outputs": [
    {
     "name": "stdout",
     "output_type": "stream",
     "text": [
      "*******\n",
      "   *   \n",
      "   *   \n",
      "   *   \n",
      "*******\n"
     ]
    }
   ],
   "source": [
    "x=1\n",
    "while x<=5:\n",
    "    if x==1 or x==5:\n",
    "        print(\"*******\")\n",
    "    elif x==2 or x==4 or x==3:\n",
    "        print(\"   *   \")\n",
    "    else:\n",
    "        print(\"      \")\n",
    "    x=x+1"
   ]
  },
  {
   "cell_type": "code",
   "execution_count": 29,
   "id": "f168cd8a",
   "metadata": {},
   "outputs": [
    {
     "name": "stdout",
     "output_type": "stream",
     "text": [
      "*******\n",
      "   *   \n",
      "   *   \n",
      "*  *   \n",
      "****\n"
     ]
    }
   ],
   "source": [
    "x=1\n",
    "while x<=5:\n",
    "    if x==1:\n",
    "        print(\"*******\")\n",
    "    elif x==5:\n",
    "         print(\"****\")\n",
    "    elif x==2 or x==3:\n",
    "        print(\"   *   \")\n",
    "    elif x==4:\n",
    "        print(\"*  *   \")\n",
    "    else:\n",
    "        print(\"       \")\n",
    "    x=x+1"
   ]
  },
  {
   "cell_type": "code",
   "execution_count": 37,
   "id": "73c1f5b3",
   "metadata": {},
   "outputs": [
    {
     "name": "stdout",
     "output_type": "stream",
     "text": [
      "*      *\n",
      "*    *\n",
      "*****\n",
      "*    *\n",
      "*      *\n"
     ]
    }
   ],
   "source": [
    "x=1\n",
    "while x<=5:\n",
    "    if x==1 or x==5:\n",
    "        print(\"*      *\")\n",
    "    elif x==2 or x==4:\n",
    "        print(\"*    *\")\n",
    "    else:\n",
    "        print(\"*****\")\n",
    "    x=x+1"
   ]
  },
  {
   "cell_type": "code",
   "execution_count": 39,
   "id": "ce57ac09",
   "metadata": {},
   "outputs": [
    {
     "name": "stdout",
     "output_type": "stream",
     "text": [
      "*      \n",
      "*     \n",
      "*     \n",
      "*     \n",
      "******\n"
     ]
    }
   ],
   "source": [
    "x=1\n",
    "while x<=5:\n",
    "    if x==1:\n",
    "        print(\"*      \")\n",
    "    elif x==5:\n",
    "         print(\"******\")\n",
    "    elif x==2 or x==4 or x==3:\n",
    "        print(\"*     \")\n",
    "    else:\n",
    "        print(\"      \")\n",
    "    x=x+1"
   ]
  },
  {
   "cell_type": "code",
   "execution_count": 38,
   "id": "b91d58b1",
   "metadata": {},
   "outputs": [
    {
     "name": "stdout",
     "output_type": "stream",
     "text": [
      "*       *\n",
      "* *   * *\n",
      "*  * *  *\n",
      "*   *   *\n",
      "*       *\n"
     ]
    }
   ],
   "source": [
    "x=1\n",
    "while x<=5:\n",
    "    if x==1 or x==5:\n",
    "        print(\"*       *\")\n",
    "    elif x==2:\n",
    "        print(\"* *   * *\")\n",
    "    elif x==4:\n",
    "         print(\"*   *   *\")\n",
    "    else:\n",
    "        print(\"*  * *  *\")\n",
    "    x=x+1"
   ]
  },
  {
   "cell_type": "code",
   "execution_count": 51,
   "id": "25d487db",
   "metadata": {},
   "outputs": [
    {
     "name": "stdout",
     "output_type": "stream",
     "text": [
      "*     *\n",
      "* *   *\n",
      "*  *  *\n",
      "*   * *\n",
      "*     *\n"
     ]
    }
   ],
   "source": [
    "x=1\n",
    "while x<=5:\n",
    "    if x==1 or x==5:\n",
    "        print(\"*     *\")\n",
    "    elif x==2:\n",
    "        print(\"* *   *\")\n",
    "    elif x==4:\n",
    "         print(\"*   * *\")\n",
    "    else:\n",
    "        print(\"*  *  *\")\n",
    "    x=x+1"
   ]
  },
  {
   "cell_type": "code",
   "execution_count": 55,
   "id": "32615d93",
   "metadata": {},
   "outputs": [
    {
     "name": "stdout",
     "output_type": "stream",
     "text": [
      " ******\n",
      "*      *\n",
      "*      *\n",
      "*      *\n",
      " ******\n"
     ]
    }
   ],
   "source": [
    "x=1\n",
    "while x<=5:\n",
    "    if x==1 or x==5:\n",
    "        print(\" ******\")\n",
    "    elif x==2 or x==4 or x==3:\n",
    "        print(\"*      *\")\n",
    "    else:\n",
    "        print(\"      \")\n",
    "    x=x+1"
   ]
  },
  {
   "cell_type": "code",
   "execution_count": 2,
   "id": "e987ddda",
   "metadata": {},
   "outputs": [
    {
     "name": "stdout",
     "output_type": "stream",
     "text": [
      "******\n",
      "*     *\n",
      "* * **\n",
      "*      \n",
      "*     \n"
     ]
    }
   ],
   "source": [
    "x=1\n",
    "while x<=5:\n",
    "    if x==1:\n",
    "        print(\"******\")\n",
    "    elif x==5:\n",
    "        print(\"*     \")\n",
    "    elif x==2:\n",
    "        print(\"*     *\")\n",
    "    elif x==4:\n",
    "        print(\"*      \")\n",
    "    else:\n",
    "        print(\"* * **\")\n",
    "    x=x+1"
   ]
  },
  {
   "cell_type": "code",
   "execution_count": 4,
   "id": "96c5a342",
   "metadata": {},
   "outputs": [
    {
     "name": "stdout",
     "output_type": "stream",
     "text": [
      " ******\n",
      "*      *\n",
      "*      *\n",
      "*      *\n",
      " ******  *\n"
     ]
    }
   ],
   "source": [
    "x=1\n",
    "while x<=5:\n",
    "    if x==1:\n",
    "        print(\" ******\")\n",
    "    elif x==5:\n",
    "         print(\" ******  *\")\n",
    "    elif x==2 or x==4 or x==3:\n",
    "        print(\"*      *\")\n",
    "    else:\n",
    "        print(\"      \")\n",
    "    x=x+1"
   ]
  },
  {
   "cell_type": "code",
   "execution_count": 66,
   "id": "6aa14aa5",
   "metadata": {},
   "outputs": [
    {
     "name": "stdout",
     "output_type": "stream",
     "text": [
      "******\n",
      "*     *\n",
      "* * **\n",
      "*    *\n",
      "*     *\n"
     ]
    }
   ],
   "source": [
    "x=1\n",
    "while x<=5:\n",
    "    if x==1:\n",
    "        print(\"******\")\n",
    "    elif x==5:\n",
    "        print(\"*     *\")\n",
    "    elif x==2:\n",
    "        print(\"*     *\")\n",
    "    elif x==4:\n",
    "        print(\"*    *\")\n",
    "    else:\n",
    "        print(\"* * **\")\n",
    "    x=x+1"
   ]
  },
  {
   "cell_type": "code",
   "execution_count": 88,
   "id": "b978958e",
   "metadata": {},
   "outputs": [
    {
     "name": "stdout",
     "output_type": "stream",
     "text": [
      " ****** \n",
      "*     \n",
      " * * **\n",
      "       *\n",
      " ****** \n"
     ]
    }
   ],
   "source": [
    "x=1\n",
    "while x<=5:\n",
    "    if x==1 or x==5:\n",
    "        print(\" ****** \")\n",
    "    elif x==2:\n",
    "        print(\"*     \")\n",
    "    elif x==4:\n",
    "        print(\"       *\")\n",
    "    else:\n",
    "        print(\" * * **\")\n",
    "    x=x+1"
   ]
  },
  {
   "cell_type": "code",
   "execution_count": 12,
   "id": "43d0c40c",
   "metadata": {},
   "outputs": [
    {
     "name": "stdout",
     "output_type": "stream",
     "text": [
      "*******\n",
      "   *   \n",
      "   *   \n",
      "   *   \n",
      "   *   \n"
     ]
    }
   ],
   "source": [
    "x=1\n",
    "while x<=5:\n",
    "    if x==1:\n",
    "        print(\"*******\")\n",
    "    elif x==5:\n",
    "         print(\"   *   \")\n",
    "    elif x==2 or x==3:\n",
    "        print(\"   *   \")\n",
    "    elif x==4:\n",
    "        print(\"   *   \")\n",
    "    else:\n",
    "        print(\"       \")\n",
    "    x=x+1"
   ]
  },
  {
   "cell_type": "code",
   "execution_count": 15,
   "id": "272f7366",
   "metadata": {},
   "outputs": [
    {
     "name": "stdout",
     "output_type": "stream",
     "text": [
      "*       *\n",
      "*       *\n",
      "*       *\n",
      "*       *\n",
      " *******  \n"
     ]
    }
   ],
   "source": [
    "x=1\n",
    "while x<=5:\n",
    "    if x==1:\n",
    "        print(\"*       *\")\n",
    "    elif x==5:\n",
    "         print(\" *******  \")\n",
    "    elif x==2 or x==4 or x==3:\n",
    "        print(\"*       *\")\n",
    "    else:\n",
    "        print(\"      \")\n",
    "    x=x+1"
   ]
  },
  {
   "cell_type": "code",
   "execution_count": 21,
   "id": "fa401417",
   "metadata": {},
   "outputs": [
    {
     "name": "stdout",
     "output_type": "stream",
     "text": [
      "*       *\n",
      " *     *\n",
      "  *   *   \n",
      "   * *   \n",
      "    *   \n"
     ]
    }
   ],
   "source": [
    "x=1\n",
    "while x<=5:\n",
    "    if x==1:\n",
    "        print(\"*       *\")\n",
    "    elif x==5:\n",
    "         print(\"    *   \")\n",
    "    elif x==2:\n",
    "        print(\" *     *\")\n",
    "    elif x==4:\n",
    "        print(\"   * *   \")\n",
    "    else:\n",
    "        print(\"  *   *   \")\n",
    "    x=x+1"
   ]
  },
  {
   "cell_type": "code",
   "execution_count": 35,
   "id": "24e85e02",
   "metadata": {},
   "outputs": [
    {
     "name": "stdout",
     "output_type": "stream",
     "text": [
      "*       *\n",
      "*   *   *\n",
      "*  * *  *\n",
      "* *   * *\n",
      "*       *\n"
     ]
    }
   ],
   "source": [
    "x=1\n",
    "while x<=5:\n",
    "    if x==1 or x==5:\n",
    "        print(\"*       *\")\n",
    "    elif x==2:\n",
    "        print(\"*   *   *\")\n",
    "    elif x==4:\n",
    "         print(\"* *   * *\")\n",
    "    else:\n",
    "        print(\"*  * *  *\")\n",
    "    x=x+1"
   ]
  },
  {
   "cell_type": "code",
   "execution_count": 51,
   "id": "5430c73c",
   "metadata": {},
   "outputs": [
    {
     "name": "stdout",
     "output_type": "stream",
     "text": [
      "*       *\n",
      "  *   *\n",
      "    *   \n",
      "  *   * \n",
      "*       *\n"
     ]
    }
   ],
   "source": [
    "x=1\n",
    "while x<=5:\n",
    "    if x==1 or x==5:\n",
    "        print(\"*       *\")\n",
    "   \n",
    "    elif x==2:\n",
    "        print(\"  *   *\")\n",
    "    elif x==4:\n",
    "         print(\"  *   * \")\n",
    "    else:\n",
    "        print(\"    *   \")\n",
    "    x=x+1"
   ]
  },
  {
   "cell_type": "code",
   "execution_count": 68,
   "id": "2f7b7725",
   "metadata": {},
   "outputs": [
    {
     "name": "stdout",
     "output_type": "stream",
     "text": [
      "*       *\n",
      "  *   *\n",
      "    *   \n",
      "    *   \n",
      "    *    \n"
     ]
    }
   ],
   "source": [
    "x=1\n",
    "while x<=5:\n",
    "    if x==1:\n",
    "        print(\"*       *\")\n",
    "    elif x==5:\n",
    "        print(\"    *    \")\n",
    "    elif x==2:\n",
    "        print(\"  *   *\")\n",
    "    elif x==4:\n",
    "         print(\"    *   \")\n",
    "    else:\n",
    "        print(\"    *   \")\n",
    "    x=x+1"
   ]
  },
  {
   "cell_type": "code",
   "execution_count": 63,
   "id": "875612ec",
   "metadata": {},
   "outputs": [
    {
     "name": "stdout",
     "output_type": "stream",
     "text": [
      "*******\n",
      "     *\n",
      "   *   \n",
      " * \n",
      "*******\n"
     ]
    }
   ],
   "source": [
    "x=1\n",
    "while x<=5:\n",
    "    if x==1:\n",
    "        print(\"*******\")\n",
    "    elif x==5:\n",
    "        print(\"*******\")\n",
    "    elif x==2:\n",
    "        print(\"     *\")\n",
    "    elif x==4:  \n",
    "        print(\" * \")\n",
    "    else:\n",
    "        print(\"   *   \")\n",
    "    x=x+1"
   ]
  },
  {
   "cell_type": "code",
   "execution_count": 30,
   "id": "79bc684d",
   "metadata": {},
   "outputs": [
    {
     "name": "stdout",
     "output_type": "stream",
     "text": [
      "  ****  \n",
      " *    *  \n",
      "*     **\n",
      " *    **\n",
      "  ****  *\n"
     ]
    }
   ],
   "source": [
    "# Small Alphabets : \n",
    "x=1\n",
    "while x<=5:\n",
    "    if x==1:\n",
    "        print(\"  ****  \")\n",
    "    elif x==5:\n",
    "        print(\"  ****  *\")\n",
    "    elif x==2:\n",
    "        print(\" *    *  \")\n",
    "    elif x==4:\n",
    "        print(\" *    **\")\n",
    "    else:\n",
    "        print(\"*     **\")\n",
    "    x=x+1"
   ]
  },
  {
   "cell_type": "code",
   "execution_count": 86,
   "id": "808934e9",
   "metadata": {},
   "outputs": [
    {
     "name": "stdout",
     "output_type": "stream",
     "text": [
      "*\n",
      "*      \n",
      "* * **\n",
      "*     *\n",
      "******\n"
     ]
    }
   ],
   "source": [
    "x=1\n",
    "while x<=5:\n",
    "    if x==1:\n",
    "        print(\"*\")\n",
    "    elif x==5:\n",
    "        print(\"******\")\n",
    "    elif x==2:\n",
    "        print(\"*      \")\n",
    "    elif x==4:\n",
    "        print(\"*     *\")\n",
    "    else:\n",
    "        print(\"* * **\")\n",
    "    x=x+1"
   ]
  },
  {
   "cell_type": "code",
   "execution_count": 92,
   "id": "c787e19c",
   "metadata": {},
   "outputs": [
    {
     "name": "stdout",
     "output_type": "stream",
     "text": [
      "  ****  \n",
      " *      \n",
      "*       \n",
      " *      \n",
      "  ****  \n"
     ]
    }
   ],
   "source": [
    "x=1\n",
    "while x<=5:\n",
    "    if x==1:\n",
    "        print(\"  ****  \")\n",
    "    elif x==5:\n",
    "        print(\"  ****  \")\n",
    "    elif x==2:\n",
    "        print(\" *      \")\n",
    "    elif x==4:\n",
    "        print(\" *      \")\n",
    "    else:\n",
    "        print(\"*       \")\n",
    "    x=x+1"
   ]
  },
  {
   "cell_type": "code",
   "execution_count": 1,
   "id": "4f841777",
   "metadata": {},
   "outputs": [
    {
     "name": "stdout",
     "output_type": "stream",
     "text": [
      "      *\n",
      "      *\n",
      " **** *\n",
      "*     *\n",
      " ****** *\n"
     ]
    }
   ],
   "source": [
    "x=1\n",
    "while x<=5:\n",
    "    if x==1:\n",
    "        print(\"      *\")\n",
    "    elif x==5:\n",
    "        print(\" ****** *\")\n",
    "    elif x==2:\n",
    "        print(\"      *\")\n",
    "    elif x==4:\n",
    "        print(\"*     *\")\n",
    "    else:\n",
    "        print(\" **** *\")\n",
    "    x=x+1"
   ]
  },
  {
   "cell_type": "code",
   "execution_count": 7,
   "id": "be78bde1",
   "metadata": {},
   "outputs": [
    {
     "name": "stdout",
     "output_type": "stream",
     "text": [
      "  *****  \n",
      " *     *\n",
      "*  **** \n",
      " *      \n",
      "  *****  \n"
     ]
    }
   ],
   "source": [
    "x=1\n",
    "while x<=5:\n",
    "    if x==1:\n",
    "        print(\"  *****  \")\n",
    "    elif x==5:\n",
    "        print(\"  *****  \")\n",
    "    elif x==2:\n",
    "        print(\" *     *\")\n",
    "    elif x==4:\n",
    "        print(\" *      \")\n",
    "    else:\n",
    "        print(\"*  **** \")\n",
    "    x=x+1"
   ]
  },
  {
   "cell_type": "code",
   "execution_count": 18,
   "id": "9111b423",
   "metadata": {},
   "outputs": [
    {
     "name": "stdout",
     "output_type": "stream",
     "text": [
      "   *****\n",
      "   *    \n",
      "  ****    \n",
      "   *   \n",
      "   *   \n"
     ]
    }
   ],
   "source": [
    "x=1\n",
    "while x<=5:\n",
    "    if x==1:\n",
    "        print(\"   *****\")\n",
    "    elif x==5:\n",
    "         print(\"   *   \")\n",
    "    elif x==2:\n",
    "        print(\"   *    \")\n",
    "    elif x==4:\n",
    "        print(\"   *   \")\n",
    "    else:\n",
    "        print(\"  ****    \")\n",
    "    x=x+1"
   ]
  },
  {
   "cell_type": "code",
   "execution_count": 32,
   "id": "bde5e1b5",
   "metadata": {},
   "outputs": [
    {
     "name": "stdout",
     "output_type": "stream",
     "text": [
      " ******\n",
      "*     *\n",
      " ******\n",
      "      *\n",
      " ******\n"
     ]
    }
   ],
   "source": [
    "x=1\n",
    "while x<=5:\n",
    "    if x==1:\n",
    "        print(\" ******\")\n",
    "    elif x==2:\n",
    "        print(\"*     *\")\n",
    "    elif x==4:\n",
    "        print(\"      *\")\n",
    "    elif x==5:\n",
    "        print(\" ******\")\n",
    "    else:\n",
    "        print(\" ******\")\n",
    "    x=x+1"
   ]
  },
  {
   "cell_type": "code",
   "execution_count": 35,
   "id": "2241dfbe",
   "metadata": {},
   "outputs": [
    {
     "name": "stdout",
     "output_type": "stream",
     "text": [
      "*\n",
      "*      \n",
      "* * **\n",
      "*     *\n",
      "*     *\n"
     ]
    }
   ],
   "source": [
    "x=1\n",
    "while x<=5:\n",
    "    if x==1:\n",
    "        print(\"*\")\n",
    "    elif x==5:\n",
    "        print(\"*     *\")\n",
    "    elif x==2:\n",
    "        print(\"*      \")\n",
    "    elif x==4:\n",
    "        print(\"*     *\")\n",
    "    else:\n",
    "        print(\"* * **\")\n",
    "    x=x+1"
   ]
  },
  {
   "cell_type": "code",
   "execution_count": 42,
   "id": "6e3f7865",
   "metadata": {},
   "outputs": [
    {
     "name": "stdout",
     "output_type": "stream",
     "text": [
      "   *   \n",
      "       \n",
      "   *   \n",
      "   *   \n",
      "   *   \n",
      "   *   \n"
     ]
    }
   ],
   "source": [
    "x=1\n",
    "while x<=6:\n",
    "    if x==1 or x==5:\n",
    "        print(\"   *   \")\n",
    "    elif x==2:\n",
    "        print(\"       \")\n",
    "    elif x==4 or x==3 or x==6:\n",
    "        print(\"   *   \")\n",
    "    else:\n",
    "        print(\"       \")\n",
    "    x=x+1"
   ]
  },
  {
   "cell_type": "code",
   "execution_count": 49,
   "id": "fd1f174b",
   "metadata": {},
   "outputs": [
    {
     "name": "stdout",
     "output_type": "stream",
     "text": [
      "   *   \n",
      "       \n",
      "   *   \n",
      "   *   \n",
      "*  *    \n",
      "****   \n"
     ]
    }
   ],
   "source": [
    "x=1\n",
    "while x<=6:\n",
    "    if x==1:\n",
    "        print(\"   *   \")\n",
    "    elif x==2:\n",
    "        print(\"       \")\n",
    "    elif x==4 or x==3:\n",
    "        print(\"   *   \")\n",
    "    elif x==6:\n",
    "        print(\"****   \")\n",
    "    else:\n",
    "        print(\"*  *    \")\n",
    "    x=x+1"
   ]
  },
  {
   "cell_type": "code",
   "execution_count": 54,
   "id": "e93b0646",
   "metadata": {},
   "outputs": [
    {
     "name": "stdout",
     "output_type": "stream",
     "text": [
      "   *   \n",
      "   *   \n",
      "   *    *\n",
      "   *  *\n",
      "   ***    \n",
      "   *  *\n",
      "   *    *\n"
     ]
    }
   ],
   "source": [
    "x=1\n",
    "while x<=7:\n",
    "    if x==1 or x==2:\n",
    "        print(\"   *   \")\n",
    "    elif x==3 or x==7:\n",
    "        print(\"   *    *\")\n",
    "    elif x==4 or x==6:\n",
    "        print(\"   *  *\")\n",
    "    else:\n",
    "        print(\"   ***    \")\n",
    "    x=x+1"
   ]
  },
  {
   "cell_type": "code",
   "execution_count": 56,
   "id": "66c84ae0",
   "metadata": {},
   "outputs": [
    {
     "name": "stdout",
     "output_type": "stream",
     "text": [
      "   *   \n",
      "   *   \n",
      "   *   \n",
      "   *   \n",
      "   *   \n",
      "   *   \n"
     ]
    }
   ],
   "source": [
    "x=1\n",
    "while x<=6:\n",
    "    if x==1 or x==6:\n",
    "        print(\"   *   \")\n",
    "    else:\n",
    "        print(\"   *   \")\n",
    "    x=x+1"
   ]
  },
  {
   "cell_type": "code",
   "execution_count": 60,
   "id": "dedba014",
   "metadata": {},
   "outputs": [
    {
     "name": "stdout",
     "output_type": "stream",
     "text": [
      "*  ***  ***\n",
      "* *   *    *\n",
      "**    *    *\n",
      "**    *    *\n"
     ]
    }
   ],
   "source": [
    "x=1\n",
    "while x<=4:\n",
    "    if x==1:\n",
    "        print(\"*  ***  ***\")\n",
    "    elif x==2:\n",
    "        print(\"* *   *    *\")\n",
    "    elif x==4:\n",
    "        print(\"**    *    *\")\n",
    "    else:\n",
    "        print(\"**    *    *\")\n",
    "    x=x+1"
   ]
  },
  {
   "cell_type": "code",
   "execution_count": 63,
   "id": "ebaa887e",
   "metadata": {},
   "outputs": [
    {
     "name": "stdout",
     "output_type": "stream",
     "text": [
      "*  ****  \n",
      "* *    * \n",
      "**     * \n",
      "**     * \n"
     ]
    }
   ],
   "source": [
    "x=1\n",
    "while x<=4:\n",
    "    if x==1:\n",
    "        print(\"*  ****  \")\n",
    "    elif x==2:\n",
    "        print(\"* *    * \")\n",
    "    elif x==4:\n",
    "        print(\"**     * \")\n",
    "    else:\n",
    "        print(\"**     * \")\n",
    "    x=x+1"
   ]
  },
  {
   "cell_type": "code",
   "execution_count": 73,
   "id": "f3349402",
   "metadata": {},
   "outputs": [
    {
     "name": "stdout",
     "output_type": "stream",
     "text": [
      " *****\n",
      "*     *\n",
      "*     *\n",
      " *****\n"
     ]
    }
   ],
   "source": [
    "x=1\n",
    "while x<=4:\n",
    "    if x==1 or x==4:\n",
    "        print(\" *****\")\n",
    "    elif x==2 or x==3:\n",
    "        print(\"*     *\")\n",
    "    else:\n",
    "        print(\"      \")\n",
    "    x=x+1"
   ]
  },
  {
   "cell_type": "code",
   "execution_count": 83,
   "id": "a61fa605",
   "metadata": {},
   "outputs": [
    {
     "name": "stdout",
     "output_type": "stream",
     "text": [
      " ******\n",
      "*      *\n",
      "*******\n",
      "*      \n",
      "*      \n"
     ]
    }
   ],
   "source": [
    "x=1\n",
    "while x<=5:\n",
    "    if x==1:\n",
    "        print(\" ******\")\n",
    "    elif x==2:\n",
    "        print(\"*      *\")\n",
    "    elif x==4:\n",
    "        print(\"*      \")\n",
    "    elif x==5 or x==6:\n",
    "        print(\"*      \")\n",
    "    else:\n",
    "        print(\"*******\")\n",
    "    x=x+1"
   ]
  },
  {
   "cell_type": "code",
   "execution_count": 80,
   "id": "641d5fed",
   "metadata": {},
   "outputs": [
    {
     "name": "stdout",
     "output_type": "stream",
     "text": [
      " *****\n",
      "*     *\n",
      "*     *\n",
      " ******\n",
      "      *  *\n",
      "      * *\n",
      "      **\n"
     ]
    }
   ],
   "source": [
    "x=1\n",
    "while x<=7:\n",
    "    if x==1:\n",
    "        print(\" *****\")\n",
    "    elif x==2 or x==3:\n",
    "        print(\"*     *\")\n",
    "    elif x==4:\n",
    "        print(\" ******\")\n",
    "    elif x==6:\n",
    "        print(\"      * *\")\n",
    "    elif x==7:\n",
    "        print(\"      **\")\n",
    "    else:\n",
    "        print(\"      *  *\")\n",
    "    x=x+1"
   ]
  },
  {
   "cell_type": "code",
   "execution_count": 84,
   "id": "5040f7d5",
   "metadata": {},
   "outputs": [
    {
     "name": "stdout",
     "output_type": "stream",
     "text": [
      "*  ***  \n",
      "* *   \n",
      "**    \n",
      "**    \n"
     ]
    }
   ],
   "source": [
    "x=1\n",
    "while x<=4:\n",
    "    if x==1:\n",
    "        print(\"*  ***  \")\n",
    "    elif x==2:\n",
    "        print(\"* *   \")\n",
    "    elif x==4:\n",
    "        print(\"**    \")\n",
    "    else:\n",
    "        print(\"**    \")\n",
    "    x=x+1"
   ]
  },
  {
   "cell_type": "code",
   "execution_count": 92,
   "id": "9dbd279b",
   "metadata": {},
   "outputs": [
    {
     "name": "stdout",
     "output_type": "stream",
     "text": [
      " ***** \n",
      "*     \n",
      " * ***\n",
      "      *\n",
      " ***** \n"
     ]
    }
   ],
   "source": [
    "x=1\n",
    "while x<=5:\n",
    "    if x==1 or x==5:\n",
    "        print(\" ***** \")\n",
    "    elif x==2:\n",
    "        print(\"*     \")\n",
    "    elif x==4:\n",
    "        print(\"      *\")\n",
    "    else:\n",
    "        print(\" * ***\")\n",
    "    x=x+1"
   ]
  },
  {
   "cell_type": "code",
   "execution_count": 95,
   "id": "bb24fab0",
   "metadata": {},
   "outputs": [
    {
     "name": "stdout",
     "output_type": "stream",
     "text": [
      "   *   \n",
      "   *   \n",
      "  **** \n",
      "   *   \n",
      "   *    \n",
      "   ****\n"
     ]
    }
   ],
   "source": [
    "x=1\n",
    "while x<=6:\n",
    "    if x==1 or x==2:\n",
    "        print(\"   *   \")\n",
    "    elif x==3:\n",
    "        print(\"  **** \")\n",
    "    elif x==4:\n",
    "        print(\"   *   \")\n",
    "    elif x==6:\n",
    "        print(\"   ****\")\n",
    "    else:\n",
    "        print(\"   *    \")\n",
    "    x=x+1"
   ]
  },
  {
   "cell_type": "code",
   "execution_count": 100,
   "id": "7f066fcb",
   "metadata": {},
   "outputs": [
    {
     "name": "stdout",
     "output_type": "stream",
     "text": [
      "*     *\n",
      "*     *\n",
      "*     *\n",
      " ***** *\n"
     ]
    }
   ],
   "source": [
    "x=1\n",
    "while x<=4:\n",
    "    if x==1 or x==2 or x==3:\n",
    "        print(\"*     *\")\n",
    "    elif x==4:\n",
    "        print(\" ***** *\")\n",
    "    else:\n",
    "        print(\"      \")\n",
    "    x=x+1"
   ]
  },
  {
   "cell_type": "code",
   "execution_count": 104,
   "id": "3a70fa6d",
   "metadata": {},
   "outputs": [
    {
     "name": "stdout",
     "output_type": "stream",
     "text": [
      "*     *\n",
      " *   *\n",
      "  * *   \n",
      "   *   \n"
     ]
    }
   ],
   "source": [
    "x=1\n",
    "while x<=4:\n",
    "    if x==1:\n",
    "        print(\"*     *\")\n",
    "    elif x==4:\n",
    "         print(\"   *   \")\n",
    "    elif x==2:\n",
    "        print(\" *   *\")\n",
    "    else:\n",
    "        print(\"  * *   \")\n",
    "    x=x+1"
   ]
  },
  {
   "cell_type": "code",
   "execution_count": 114,
   "id": "2fffb624",
   "metadata": {},
   "outputs": [
    {
     "name": "stdout",
     "output_type": "stream",
     "text": [
      "*    *    *\n",
      "*    *    *\n",
      "*    *    *\n",
      " ***  ***  *\n"
     ]
    }
   ],
   "source": [
    "x=1\n",
    "while x<=4:\n",
    "    if x==1:\n",
    "        print(\"*    *    *\")\n",
    "    elif x==2:\n",
    "        print(\"*    *    *\")\n",
    "    elif x==4:\n",
    "        print(\" ***  ***  *\")\n",
    "    else:\n",
    "        print(\"*    *    *\")\n",
    "    x=x+1"
   ]
  },
  {
   "cell_type": "code",
   "execution_count": 122,
   "id": "c18e1f1b",
   "metadata": {},
   "outputs": [
    {
     "name": "stdout",
     "output_type": "stream",
     "text": [
      "   **** ****\n",
      "       *\n",
      "       *\n",
      "   **** ****\n"
     ]
    }
   ],
   "source": [
    "x=1\n",
    "while x<=4:\n",
    "    if x==1 or x==4:\n",
    "        print(\"   **** ****\")\n",
    "    elif x==2 or x==3:\n",
    "        print(\"       *\")\n",
    "    else:\n",
    "        print(\"      \")\n",
    "    x=x+1"
   ]
  },
  {
   "cell_type": "code",
   "execution_count": 124,
   "id": "ca2de662",
   "metadata": {},
   "outputs": [
    {
     "name": "stdout",
     "output_type": "stream",
     "text": [
      "*     *\n",
      "*     *\n",
      " ******\n",
      "      *\n",
      " ******\n"
     ]
    }
   ],
   "source": [
    "x=1\n",
    "while x<=5:\n",
    "    if x==1:\n",
    "        print(\"*     *\")\n",
    "    elif x==2:\n",
    "        print(\"*     *\")\n",
    "    elif x==4:\n",
    "        print(\"      *\")\n",
    "    elif x==5:\n",
    "        print(\" ******\")\n",
    "    else:\n",
    "        print(\" ******\")\n",
    "    x=x+1"
   ]
  },
  {
   "cell_type": "code",
   "execution_count": 125,
   "id": "6bd3c647",
   "metadata": {},
   "outputs": [
    {
     "name": "stdout",
     "output_type": "stream",
     "text": [
      "*****\n",
      "   *\n",
      " *   \n",
      "*****\n"
     ]
    }
   ],
   "source": [
    "x=1\n",
    "while x<=4:\n",
    "    if x==1:\n",
    "        print(\"*****\")\n",
    "    elif x==4:\n",
    "        print(\"*****\")\n",
    "    elif x==2:\n",
    "        print(\"   *\")\n",
    "    else:\n",
    "        print(\" *   \")\n",
    "    x=x+1"
   ]
  },
  {
   "cell_type": "code",
   "execution_count": null,
   "id": "f691d7d1",
   "metadata": {},
   "outputs": [],
   "source": []
  }
 ],
 "metadata": {
  "kernelspec": {
   "display_name": "Python 3 (ipykernel)",
   "language": "python",
   "name": "python3"
  },
  "language_info": {
   "codemirror_mode": {
    "name": "ipython",
    "version": 3
   },
   "file_extension": ".py",
   "mimetype": "text/x-python",
   "name": "python",
   "nbconvert_exporter": "python",
   "pygments_lexer": "ipython3",
   "version": "3.11.3"
  }
 },
 "nbformat": 4,
 "nbformat_minor": 5
}

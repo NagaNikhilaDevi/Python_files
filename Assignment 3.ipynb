{
 "cells": [
  {
   "cell_type": "code",
   "execution_count": 28,
   "id": "d7b8969a",
   "metadata": {},
   "outputs": [
    {
     "name": "stdout",
     "output_type": "stream",
     "text": [
      "a b c d e f g h i j k l m n o p q r s t u v w x y z\n"
     ]
    }
   ],
   "source": [
    "# Create a python program to print lower case alphabets (a-z) with conditional statement\n",
    "for alpha in range(97,123):\n",
    "    if alpha==122:\n",
    "        print(chr(alpha))\n",
    "    else:\n",
    "        print(chr(alpha),end=\" \")"
   ]
  },
  {
   "cell_type": "code",
   "execution_count": 19,
   "id": "ff7656df",
   "metadata": {},
   "outputs": [
    {
     "name": "stdout",
     "output_type": "stream",
     "text": [
      "Uppercase Alphabets(A-Z):\n",
      "A B C D E F G H I J K L M N O P Q R S T U V W X Y Z \n",
      "Lowercase Alphabets(a-z):\n",
      "a b c d e f g h i j k l m n o p q r s t u v w x y z "
     ]
    }
   ],
   "source": [
    "#Create a python program to print lower & upper case alphabets with looping concepts (while loop and for loop)\n",
    "#using for loop\n",
    "print(\"Uppercase Alphabets(A-Z):\")         \n",
    "for alpha in range(ord(\"A\"),ord(\"Z\")+1):\n",
    "    print(chr(alpha),end=\" \")\n",
    "print(\"\\nLowercase Alphabets(a-z):\")\n",
    "for alpha in range(ord(\"a\"),ord(\"z\")+1):\n",
    "    print(chr(alpha),end=\" \")"
   ]
  },
  {
   "cell_type": "code",
   "execution_count": 40,
   "id": "b3720805",
   "metadata": {},
   "outputs": [
    {
     "name": "stdout",
     "output_type": "stream",
     "text": [
      "UPPERCASE ALPHABETS: ABCDEFGHIJKLMNOPQRSTUVWXYZ\n",
      "Lowercase Alphabets: abcdefghijklmnopqrstuvwxyz\n"
     ]
    }
   ],
   "source": [
    "#using while loop\n",
    "uppercase_alphabets=\"\"\n",
    "i = 0\n",
    "while i<26:\n",
    "    uppercase_alphabets += chr(65+i)\n",
    "    i += 1\n",
    "lowercase_alphabets=\"\"\n",
    "i = 0\n",
    "while i<26:\n",
    "    lowercase_alphabets += chr(97+i)\n",
    "    i += 1\n",
    "print(\"UPPERCASE ALPHABETS:\",uppercase_alphabets)\n",
    "print(\"Lowercase Alphabets:\",lowercase_alphabets)"
   ]
  },
  {
   "cell_type": "code",
   "execution_count": null,
   "id": "39d87c61",
   "metadata": {},
   "outputs": [],
   "source": []
  }
 ],
 "metadata": {
  "kernelspec": {
   "display_name": "Python 3 (ipykernel)",
   "language": "python",
   "name": "python3"
  },
  "language_info": {
   "codemirror_mode": {
    "name": "ipython",
    "version": 3
   },
   "file_extension": ".py",
   "mimetype": "text/x-python",
   "name": "python",
   "nbconvert_exporter": "python",
   "pygments_lexer": "ipython3",
   "version": "3.11.3"
  }
 },
 "nbformat": 4,
 "nbformat_minor": 5
}
